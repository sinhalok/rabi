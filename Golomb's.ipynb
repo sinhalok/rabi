{
 "cells": [
  {
   "cell_type": "code",
   "execution_count": 1,
   "metadata": {},
   "outputs": [
    {
     "name": "stdout",
     "output_type": "stream",
     "text": [
      "Enter the value of x and b: 37 11\n",
      "The golomb code encoding for x=37 and b=11 is 0001100\n"
     ]
    }
   ],
   "source": [
    "#Encoding\n",
    "import math\n",
    "N,M = list(map(int,input('Enter the value of x and b: ').split()))\n",
    "q=N//M\n",
    "r=N%M\n",
    "quo='0'*q+'1'\n",
    "b=math.floor(math.log2(M))\n",
    "k = 2**(b+1)-M\n",
    "if r<k:\n",
    "    rem = bin(r)[2:]\n",
    "    l=len(rem)\n",
    "    if l<b:\n",
    "        rem = '0'*(b-l)+rem\n",
    "else:\n",
    "    rem = bin(r+k)[2:]\n",
    "    l=len(rem)\n",
    "    if l<b+1:\n",
    "        rem = '0'*(b+1-l)+rem\n",
    "golomb_code=quo+rem\n",
    "print(f'The golomb code encoding for x={N} and b={M} is {golomb_code}')"
   ]
  },
  {
   "cell_type": "code",
   "execution_count": 2,
   "metadata": {},
   "outputs": [
    {
     "name": "stdout",
     "output_type": "stream",
     "text": [
      "Enter the golomb code: 0001100\n",
      "Enter the value of b: 11\n",
      "The decoding of golomb code 0001100 and b=11 is x=37\n"
     ]
    }
   ],
   "source": [
    "#Decoding\n",
    "n = input('Enter the golomb code: ')\n",
    "q=len(n.split('1')[0])\n",
    "M = int(input('Enter the value of b: '))\n",
    "b=math.floor(math.log2(M))\n",
    "k = 2**(b+1)-M\n",
    "r = int(n[q+1:q+1+b],2)\n",
    "if r>=k:\n",
    "    r = int(n[q+1:q+1+b+1],2)\n",
    "    r=r-k\n",
    "x=q*M+r\n",
    "print(f'The decoding of golomb code {n} and b={M} is x={x}')"
   ]
  },
  {
   "cell_type": "code",
   "execution_count": 3,
   "metadata": {},
   "outputs": [
    {
     "name": "stdout",
     "output_type": "stream",
     "text": [
      "Enter the value of x and b: 37 8\n",
      "The golomb code encoding for x=37 and b=8 is 00001101\n"
     ]
    }
   ],
   "source": [
    "#Encoding\n",
    "import math\n",
    "N,M = list(map(int,input('Enter the value of x and b: ').split()))\n",
    "q=N//M\n",
    "r=N%M\n",
    "quo='0'*q+'1'\n",
    "b=math.floor(math.log2(M))\n",
    "k = 2**(b+1)-M\n",
    "if r<k:\n",
    "    rem = bin(r)[2:]\n",
    "    l=len(rem)\n",
    "    if l<b:\n",
    "        rem = '0'*(b-l)+rem\n",
    "else:\n",
    "    rem = bin(r+k)[2:]\n",
    "    l=len(rem)\n",
    "    if l<b+1:\n",
    "        rem = '0'*(b+1-l)+rem\n",
    "golomb_code=quo+rem\n",
    "print(f'The golomb code encoding for x={N} and b={M} is {golomb_code}')"
   ]
  },
  {
   "cell_type": "code",
   "execution_count": 4,
   "metadata": {},
   "outputs": [
    {
     "name": "stdout",
     "output_type": "stream",
     "text": [
      "Enter the golomb code: 00001101\n",
      "Enter the value of b: 8\n",
      "The decoding of golomb code 00001101 and b=8 is x=37\n"
     ]
    }
   ],
   "source": [
    "#Decoding\n",
    "n = input('Enter the golomb code: ')\n",
    "q=len(n.split('1')[0])\n",
    "M = int(input('Enter the value of b: '))\n",
    "b=math.floor(math.log2(M))\n",
    "k = 2**(b+1)-M\n",
    "r = int(n[q+1:q+1+b],2)\n",
    "if r>=k:\n",
    "    r = int(n[q+1:q+1+b+1],2)\n",
    "    r=r-k\n",
    "x=q*M+r\n",
    "print(f'The decoding of golomb code {n} and b={M} is x={x}')"
   ]
  },
  {
   "cell_type": "code",
   "execution_count": null,
   "metadata": {},
   "outputs": [],
   "source": []
  }
 ],
 "metadata": {
  "kernelspec": {
   "display_name": "Python 3",
   "language": "python",
   "name": "python3"
  },
  "language_info": {
   "codemirror_mode": {
    "name": "ipython",
    "version": 3
   },
   "file_extension": ".py",
   "mimetype": "text/x-python",
   "name": "python",
   "nbconvert_exporter": "python",
   "pygments_lexer": "ipython3",
   "version": "3.7.3"
  }
 },
 "nbformat": 4,
 "nbformat_minor": 2
}
